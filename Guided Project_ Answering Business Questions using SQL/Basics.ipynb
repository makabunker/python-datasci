{
 "cells": [
  {
   "cell_type": "markdown",
   "metadata": {
    "collapsed": true
   },
   "source": [
    "# Guided Project: Answering Buiness Questions using SQL"
   ]
  },
  {
   "cell_type": "code",
   "execution_count": 1,
   "metadata": {
    "collapsed": true
   },
   "outputs": [],
   "source": [
    "# import relevant libraries\n",
    "import sqlite3\n",
    "import pandas as pd\n",
    "import matplotlib.pyplot as plt\n",
    "%matplotlib inline"
   ]
  },
  {
   "cell_type": "code",
   "execution_count": 2,
   "metadata": {
    "collapsed": false
   },
   "outputs": [
    {
     "data": {
      "text/html": [
       "<div>\n",
       "<style scoped>\n",
       "    .dataframe tbody tr th:only-of-type {\n",
       "        vertical-align: middle;\n",
       "    }\n",
       "\n",
       "    .dataframe tbody tr th {\n",
       "        vertical-align: top;\n",
       "    }\n",
       "\n",
       "    .dataframe thead th {\n",
       "        text-align: right;\n",
       "    }\n",
       "</style>\n",
       "<table border=\"1\" class=\"dataframe\">\n",
       "  <thead>\n",
       "    <tr style=\"text-align: right;\">\n",
       "      <th></th>\n",
       "      <th>name</th>\n",
       "      <th>type</th>\n",
       "    </tr>\n",
       "  </thead>\n",
       "  <tbody>\n",
       "    <tr>\n",
       "      <th>0</th>\n",
       "      <td>album</td>\n",
       "      <td>table</td>\n",
       "    </tr>\n",
       "    <tr>\n",
       "      <th>1</th>\n",
       "      <td>artist</td>\n",
       "      <td>table</td>\n",
       "    </tr>\n",
       "    <tr>\n",
       "      <th>2</th>\n",
       "      <td>customer</td>\n",
       "      <td>table</td>\n",
       "    </tr>\n",
       "    <tr>\n",
       "      <th>3</th>\n",
       "      <td>employee</td>\n",
       "      <td>table</td>\n",
       "    </tr>\n",
       "    <tr>\n",
       "      <th>4</th>\n",
       "      <td>genre</td>\n",
       "      <td>table</td>\n",
       "    </tr>\n",
       "    <tr>\n",
       "      <th>5</th>\n",
       "      <td>invoice</td>\n",
       "      <td>table</td>\n",
       "    </tr>\n",
       "    <tr>\n",
       "      <th>6</th>\n",
       "      <td>invoice_line</td>\n",
       "      <td>table</td>\n",
       "    </tr>\n",
       "    <tr>\n",
       "      <th>7</th>\n",
       "      <td>media_type</td>\n",
       "      <td>table</td>\n",
       "    </tr>\n",
       "    <tr>\n",
       "      <th>8</th>\n",
       "      <td>playlist</td>\n",
       "      <td>table</td>\n",
       "    </tr>\n",
       "    <tr>\n",
       "      <th>9</th>\n",
       "      <td>playlist_track</td>\n",
       "      <td>table</td>\n",
       "    </tr>\n",
       "    <tr>\n",
       "      <th>10</th>\n",
       "      <td>track</td>\n",
       "      <td>table</td>\n",
       "    </tr>\n",
       "  </tbody>\n",
       "</table>\n",
       "</div>"
      ],
      "text/plain": [
       "              name   type\n",
       "0            album  table\n",
       "1           artist  table\n",
       "2         customer  table\n",
       "3         employee  table\n",
       "4            genre  table\n",
       "5          invoice  table\n",
       "6     invoice_line  table\n",
       "7       media_type  table\n",
       "8         playlist  table\n",
       "9   playlist_track  table\n",
       "10           track  table"
      ]
     },
     "execution_count": 2,
     "metadata": {},
     "output_type": "execute_result"
    }
   ],
   "source": [
    "# create funciton to take SQL query and return pd.datarframe\n",
    "def run_query(q):\n",
    "    with sqlite3.connect('chinook.db') as conn:\n",
    "        return pd.read_sql(q, conn)\n",
    "    \n",
    "# create function to execute command with SQL\n",
    "def run_command(c):\n",
    "    with sqlite3.connect('chinook.db') as conn:\n",
    "        conn.isolation_level = None\n",
    "        conn.execute(c)\n",
    "        \n",
    "# create function to return list of all tables and views in db\n",
    "def show_tables():\n",
    "    q = '''SELECT\n",
    "            name,\n",
    "            type\n",
    "        FROM sqlite_master\n",
    "        WHERE type IN (\"table\",\"view\");'''\n",
    "    df = run_query(q)\n",
    "    return df\n",
    "    \n",
    "show_tables()"
   ]
  },
  {
   "cell_type": "code",
   "execution_count": 3,
   "metadata": {
    "collapsed": false
   },
   "outputs": [
    {
     "data": {
      "text/html": [
       "<div>\n",
       "<style scoped>\n",
       "    .dataframe tbody tr th:only-of-type {\n",
       "        vertical-align: middle;\n",
       "    }\n",
       "\n",
       "    .dataframe tbody tr th {\n",
       "        vertical-align: top;\n",
       "    }\n",
       "\n",
       "    .dataframe thead th {\n",
       "        text-align: right;\n",
       "    }\n",
       "</style>\n",
       "<table border=\"1\" class=\"dataframe\">\n",
       "  <thead>\n",
       "    <tr style=\"text-align: right;\">\n",
       "      <th></th>\n",
       "      <th>genre</th>\n",
       "      <th>total_count</th>\n",
       "      <th>total_pct</th>\n",
       "    </tr>\n",
       "  </thead>\n",
       "  <tbody>\n",
       "    <tr>\n",
       "      <th>0</th>\n",
       "      <td>Alternative</td>\n",
       "      <td>35</td>\n",
       "      <td>3.330</td>\n",
       "    </tr>\n",
       "    <tr>\n",
       "      <th>1</th>\n",
       "      <td>Alternative &amp; Punk</td>\n",
       "      <td>130</td>\n",
       "      <td>12.369</td>\n",
       "    </tr>\n",
       "    <tr>\n",
       "      <th>2</th>\n",
       "      <td>Blues</td>\n",
       "      <td>36</td>\n",
       "      <td>3.425</td>\n",
       "    </tr>\n",
       "    <tr>\n",
       "      <th>3</th>\n",
       "      <td>Classical</td>\n",
       "      <td>4</td>\n",
       "      <td>0.381</td>\n",
       "    </tr>\n",
       "    <tr>\n",
       "      <th>4</th>\n",
       "      <td>Easy Listening</td>\n",
       "      <td>13</td>\n",
       "      <td>1.237</td>\n",
       "    </tr>\n",
       "    <tr>\n",
       "      <th>5</th>\n",
       "      <td>Electronica/Dance</td>\n",
       "      <td>5</td>\n",
       "      <td>0.476</td>\n",
       "    </tr>\n",
       "    <tr>\n",
       "      <th>6</th>\n",
       "      <td>Heavy Metal</td>\n",
       "      <td>3</td>\n",
       "      <td>0.285</td>\n",
       "    </tr>\n",
       "    <tr>\n",
       "      <th>7</th>\n",
       "      <td>Hip Hop/Rap</td>\n",
       "      <td>20</td>\n",
       "      <td>1.903</td>\n",
       "    </tr>\n",
       "    <tr>\n",
       "      <th>8</th>\n",
       "      <td>Jazz</td>\n",
       "      <td>14</td>\n",
       "      <td>1.332</td>\n",
       "    </tr>\n",
       "    <tr>\n",
       "      <th>9</th>\n",
       "      <td>Latin</td>\n",
       "      <td>22</td>\n",
       "      <td>2.093</td>\n",
       "    </tr>\n",
       "    <tr>\n",
       "      <th>10</th>\n",
       "      <td>Metal</td>\n",
       "      <td>124</td>\n",
       "      <td>11.798</td>\n",
       "    </tr>\n",
       "    <tr>\n",
       "      <th>11</th>\n",
       "      <td>Pop</td>\n",
       "      <td>22</td>\n",
       "      <td>2.093</td>\n",
       "    </tr>\n",
       "    <tr>\n",
       "      <th>12</th>\n",
       "      <td>R&amp;B/Soul</td>\n",
       "      <td>53</td>\n",
       "      <td>5.043</td>\n",
       "    </tr>\n",
       "    <tr>\n",
       "      <th>13</th>\n",
       "      <td>Reggae</td>\n",
       "      <td>6</td>\n",
       "      <td>0.571</td>\n",
       "    </tr>\n",
       "    <tr>\n",
       "      <th>14</th>\n",
       "      <td>Rock</td>\n",
       "      <td>561</td>\n",
       "      <td>53.378</td>\n",
       "    </tr>\n",
       "    <tr>\n",
       "      <th>15</th>\n",
       "      <td>Soundtrack</td>\n",
       "      <td>2</td>\n",
       "      <td>0.190</td>\n",
       "    </tr>\n",
       "    <tr>\n",
       "      <th>16</th>\n",
       "      <td>TV Shows</td>\n",
       "      <td>1</td>\n",
       "      <td>0.095</td>\n",
       "    </tr>\n",
       "  </tbody>\n",
       "</table>\n",
       "</div>"
      ],
      "text/plain": [
       "                 genre  total_count  total_pct\n",
       "0          Alternative           35      3.330\n",
       "1   Alternative & Punk          130     12.369\n",
       "2                Blues           36      3.425\n",
       "3            Classical            4      0.381\n",
       "4       Easy Listening           13      1.237\n",
       "5    Electronica/Dance            5      0.476\n",
       "6          Heavy Metal            3      0.285\n",
       "7          Hip Hop/Rap           20      1.903\n",
       "8                 Jazz           14      1.332\n",
       "9                Latin           22      2.093\n",
       "10               Metal          124     11.798\n",
       "11                 Pop           22      2.093\n",
       "12            R&B/Soul           53      5.043\n",
       "13              Reggae            6      0.571\n",
       "14                Rock          561     53.378\n",
       "15          Soundtrack            2      0.190\n",
       "16            TV Shows            1      0.095"
      ]
     },
     "execution_count": 3,
     "metadata": {},
     "output_type": "execute_result"
    }
   ],
   "source": [
    "q1 = '''\n",
    "WITH\n",
    "    track_genre AS \n",
    "        (\n",
    "        SELECT\n",
    "            t.track_id,\n",
    "            g.genre_id,\n",
    "            g.name\n",
    "        FROM track t\n",
    "        LEFT JOIN genre g ON g.genre_id = t.genre_id\n",
    "        ),\n",
    "        \n",
    "    customer_usa AS\n",
    "        (\n",
    "        SELECT \n",
    "            customer_id,\n",
    "            country\n",
    "        FROM customer\n",
    "        WHERE country = 'USA'\n",
    "        ),\n",
    "        \n",
    "    invoice_usa AS\n",
    "        (\n",
    "        SELECT\n",
    "            il.invoice_line_id,\n",
    "            il.track_id,\n",
    "            cu.country\n",
    "        FROM invoice_line il\n",
    "        LEFT JOIN invoice i ON i.invoice_id = il.invoice_id\n",
    "        INNER JOIN customer_usa cu ON cu.customer_id = i.customer_id\n",
    "        ),\n",
    "        \n",
    "    final AS\n",
    "        (\n",
    "        SELECT\n",
    "            tg.name,\n",
    "            tg.genre_id\n",
    "        FROM track_genre tg\n",
    "        INNER JOIN invoice_usa iu ON iu.track_id = tg.track_id\n",
    "        )\n",
    "        \n",
    "SELECT\n",
    "    name genre,\n",
    "    COUNT(genre_id) total_count,\n",
    "    ROUND(CAST(COUNT(genre_id) AS FLOAT) / 1051 * 100, 3) total_pct\n",
    "FROM final\n",
    "GROUP BY 1'''\n",
    "run_query(q1)"
   ]
  },
  {
   "cell_type": "code",
   "execution_count": 4,
   "metadata": {
    "collapsed": false
   },
   "outputs": [
    {
     "data": {
      "text/plain": [
       "<matplotlib.axes._subplots.AxesSubplot at 0x7fc7c9bdb208>"
      ]
     },
     "execution_count": 4,
     "metadata": {},
     "output_type": "execute_result"
    },
    {
     "data": {
      "image/png": "[encoded data removed]",
      "text/plain": [
       "<matplotlib.figure.Figure at 0x7fc7c9bdb358>"
      ]
     },
     "metadata": {},
     "output_type": "display_data"
    }
   ],
   "source": [
    "usa_sales_genre_breakdown = run_query(q1)\n",
    "us_sales_not_rock = usa_sales_genre_breakdown.drop(14)\n",
    "us_sales_not_rock.set_index('genre', drop=True, inplace=True)\n",
    "us_sales_not_rock['total_pct'].plot(kind='bar')"
   ]
  },
  {
   "cell_type": "markdown",
   "metadata": {},
   "source": [
    "By excluding the Rock genre from our US sales data (Rock was by far the leading genre with 53.4% of sales), we can more clearly see the breakdown of music sales by genre. Of the four albums from which we have to choose 3, we should certainly chose the Punk album Red Tone and the Blues album Slim Jim Bites. Hip-Hop and Pop songs were nearly level in number of US sales, with Pop barely outselling Hip-Hop. Thus we suggest choosing the Pop album Meteor and the Girls to sell."
   ]
  },
  {
   "cell_type": "code",
   "execution_count": 5,
   "metadata": {
    "collapsed": false
   },
   "outputs": [
    {
     "data": {
      "text/html": [
       "<div>\n",
       "<style scoped>\n",
       "    .dataframe tbody tr th:only-of-type {\n",
       "        vertical-align: middle;\n",
       "    }\n",
       "\n",
       "    .dataframe tbody tr th {\n",
       "        vertical-align: top;\n",
       "    }\n",
       "\n",
       "    .dataframe thead th {\n",
       "        text-align: right;\n",
       "    }\n",
       "</style>\n",
       "<table border=\"1\" class=\"dataframe\">\n",
       "  <thead>\n",
       "    <tr style=\"text-align: right;\">\n",
       "      <th></th>\n",
       "      <th>employee_name</th>\n",
       "      <th>total_sales</th>\n",
       "      <th>city</th>\n",
       "      <th>state</th>\n",
       "      <th>country</th>\n",
       "    </tr>\n",
       "  </thead>\n",
       "  <tbody>\n",
       "    <tr>\n",
       "      <th>0</th>\n",
       "      <td>Steve Johnson</td>\n",
       "      <td>1393.92</td>\n",
       "      <td>Calgary</td>\n",
       "      <td>AB</td>\n",
       "      <td>Canada</td>\n",
       "    </tr>\n",
       "    <tr>\n",
       "      <th>1</th>\n",
       "      <td>Margaret Park</td>\n",
       "      <td>1584.00</td>\n",
       "      <td>Calgary</td>\n",
       "      <td>AB</td>\n",
       "      <td>Canada</td>\n",
       "    </tr>\n",
       "    <tr>\n",
       "      <th>2</th>\n",
       "      <td>Jane Peacock</td>\n",
       "      <td>1731.51</td>\n",
       "      <td>Calgary</td>\n",
       "      <td>AB</td>\n",
       "      <td>Canada</td>\n",
       "    </tr>\n",
       "  </tbody>\n",
       "</table>\n",
       "</div>"
      ],
      "text/plain": [
       "   employee_name  total_sales     city state country\n",
       "0  Steve Johnson      1393.92  Calgary    AB  Canada\n",
       "1  Margaret Park      1584.00  Calgary    AB  Canada\n",
       "2   Jane Peacock      1731.51  Calgary    AB  Canada"
      ]
     },
     "execution_count": 5,
     "metadata": {},
     "output_type": "execute_result"
    }
   ],
   "source": [
    "q2 = '''\n",
    "WITH\n",
    "    invoice_total AS\n",
    "        (\n",
    "        SELECT\n",
    "            c.customer_id,\n",
    "            c.support_rep_id,\n",
    "            il.invoice_id,\n",
    "            il.unit_price * il.quantity invoice_line_total\n",
    "            FROM invoice_line il\n",
    "            LEFT JOIN invoice i ON i.invoice_id = il.invoice_id\n",
    "            LEFT JOIN customer c ON c.customer_id = i.customer_id\n",
    "            )\n",
    "            \n",
    "SELECT\n",
    "    e.first_name || ' ' || e.last_name employee_name,\n",
    "    SUM(it.invoice_line_total) total_sales,\n",
    "    e.city,\n",
    "    e.state,\n",
    "    e.country\n",
    "FROM invoice_total it\n",
    "LEFT JOIN employee e ON e.employee_id = it.support_rep_id\n",
    "GROUP BY 1 ORDER BY 2;\n",
    "'''\n",
    "run_query(q2)"
   ]
  },
  {
   "cell_type": "code",
   "execution_count": 6,
   "metadata": {
    "collapsed": false
   },
   "outputs": [
    {
     "data": {
      "text/plain": [
       "<matplotlib.axes._subplots.AxesSubplot at 0x7fc7c9ba5278>"
      ]
     },
     "execution_count": 6,
     "metadata": {},
     "output_type": "execute_result"
    },
    {
     "data": {
      "image/png": "[encoded data removed]",
      "text/plain": [
       "<matplotlib.figure.Figure at 0x7fc7c9bdb390>"
      ]
     },
     "metadata": {},
     "output_type": "display_data"
    }
   ],
   "source": [
    "employee_sales = run_query(q2)\n",
    "employee_sales.set_index('employee_name', drop=True, inplace=True)\n",
    "employee_sales.plot(kind='bar')"
   ]
  },
  {
   "cell_type": "markdown",
   "metadata": {},
   "source": [
    "The sales figures for the three Sales Support Reps range from ~$1400-1730. Due to the small number of reps and the little information given about each of them, determining a cause of the differences would be very speculative."
   ]
  },
  {
   "cell_type": "code",
   "execution_count": 7,
   "metadata": {
    "collapsed": false
   },
   "outputs": [
    {
     "data": {
      "text/html": [
       "<div>\n",
       "<style scoped>\n",
       "    .dataframe tbody tr th:only-of-type {\n",
       "        vertical-align: middle;\n",
       "    }\n",
       "\n",
       "    .dataframe tbody tr th {\n",
       "        vertical-align: top;\n",
       "    }\n",
       "\n",
       "    .dataframe thead th {\n",
       "        text-align: right;\n",
       "    }\n",
       "</style>\n",
       "<table border=\"1\" class=\"dataframe\">\n",
       "  <thead>\n",
       "    <tr style=\"text-align: right;\">\n",
       "      <th></th>\n",
       "      <th>country</th>\n",
       "      <th>total_sales</th>\n",
       "      <th>total_customers</th>\n",
       "      <th>avg_sales_per_customer</th>\n",
       "      <th>avg_order_value</th>\n",
       "    </tr>\n",
       "  </thead>\n",
       "  <tbody>\n",
       "    <tr>\n",
       "      <th>0</th>\n",
       "      <td>USA</td>\n",
       "      <td>1040.49</td>\n",
       "      <td>13</td>\n",
       "      <td>80.04</td>\n",
       "      <td>7.94</td>\n",
       "    </tr>\n",
       "    <tr>\n",
       "      <th>1</th>\n",
       "      <td>Canada</td>\n",
       "      <td>535.59</td>\n",
       "      <td>8</td>\n",
       "      <td>66.95</td>\n",
       "      <td>7.05</td>\n",
       "    </tr>\n",
       "    <tr>\n",
       "      <th>2</th>\n",
       "      <td>Brazil</td>\n",
       "      <td>427.68</td>\n",
       "      <td>5</td>\n",
       "      <td>85.54</td>\n",
       "      <td>7.01</td>\n",
       "    </tr>\n",
       "    <tr>\n",
       "      <th>3</th>\n",
       "      <td>France</td>\n",
       "      <td>389.07</td>\n",
       "      <td>5</td>\n",
       "      <td>77.81</td>\n",
       "      <td>7.78</td>\n",
       "    </tr>\n",
       "    <tr>\n",
       "      <th>4</th>\n",
       "      <td>Germany</td>\n",
       "      <td>334.62</td>\n",
       "      <td>4</td>\n",
       "      <td>83.66</td>\n",
       "      <td>8.16</td>\n",
       "    </tr>\n",
       "    <tr>\n",
       "      <th>5</th>\n",
       "      <td>United Kingdom</td>\n",
       "      <td>245.52</td>\n",
       "      <td>3</td>\n",
       "      <td>81.84</td>\n",
       "      <td>8.77</td>\n",
       "    </tr>\n",
       "    <tr>\n",
       "      <th>6</th>\n",
       "      <td>Czech Republic</td>\n",
       "      <td>273.24</td>\n",
       "      <td>2</td>\n",
       "      <td>136.62</td>\n",
       "      <td>9.11</td>\n",
       "    </tr>\n",
       "    <tr>\n",
       "      <th>7</th>\n",
       "      <td>India</td>\n",
       "      <td>183.15</td>\n",
       "      <td>2</td>\n",
       "      <td>91.57</td>\n",
       "      <td>8.72</td>\n",
       "    </tr>\n",
       "    <tr>\n",
       "      <th>8</th>\n",
       "      <td>Portugal</td>\n",
       "      <td>185.13</td>\n",
       "      <td>2</td>\n",
       "      <td>92.56</td>\n",
       "      <td>6.38</td>\n",
       "    </tr>\n",
       "    <tr>\n",
       "      <th>9</th>\n",
       "      <td>Argentina</td>\n",
       "      <td>39.60</td>\n",
       "      <td>1</td>\n",
       "      <td>39.60</td>\n",
       "      <td>7.92</td>\n",
       "    </tr>\n",
       "    <tr>\n",
       "      <th>10</th>\n",
       "      <td>Australia</td>\n",
       "      <td>81.18</td>\n",
       "      <td>1</td>\n",
       "      <td>81.18</td>\n",
       "      <td>8.12</td>\n",
       "    </tr>\n",
       "    <tr>\n",
       "      <th>11</th>\n",
       "      <td>Austria</td>\n",
       "      <td>69.30</td>\n",
       "      <td>1</td>\n",
       "      <td>69.30</td>\n",
       "      <td>7.70</td>\n",
       "    </tr>\n",
       "    <tr>\n",
       "      <th>12</th>\n",
       "      <td>Belgium</td>\n",
       "      <td>60.39</td>\n",
       "      <td>1</td>\n",
       "      <td>60.39</td>\n",
       "      <td>8.63</td>\n",
       "    </tr>\n",
       "    <tr>\n",
       "      <th>13</th>\n",
       "      <td>Chile</td>\n",
       "      <td>97.02</td>\n",
       "      <td>1</td>\n",
       "      <td>97.02</td>\n",
       "      <td>7.46</td>\n",
       "    </tr>\n",
       "    <tr>\n",
       "      <th>14</th>\n",
       "      <td>Denmark</td>\n",
       "      <td>37.62</td>\n",
       "      <td>1</td>\n",
       "      <td>37.62</td>\n",
       "      <td>3.76</td>\n",
       "    </tr>\n",
       "    <tr>\n",
       "      <th>15</th>\n",
       "      <td>Finland</td>\n",
       "      <td>79.20</td>\n",
       "      <td>1</td>\n",
       "      <td>79.20</td>\n",
       "      <td>7.20</td>\n",
       "    </tr>\n",
       "    <tr>\n",
       "      <th>16</th>\n",
       "      <td>Hungary</td>\n",
       "      <td>78.21</td>\n",
       "      <td>1</td>\n",
       "      <td>78.21</td>\n",
       "      <td>7.82</td>\n",
       "    </tr>\n",
       "    <tr>\n",
       "      <th>17</th>\n",
       "      <td>Ireland</td>\n",
       "      <td>114.84</td>\n",
       "      <td>1</td>\n",
       "      <td>114.84</td>\n",
       "      <td>8.83</td>\n",
       "    </tr>\n",
       "    <tr>\n",
       "      <th>18</th>\n",
       "      <td>Italy</td>\n",
       "      <td>50.49</td>\n",
       "      <td>1</td>\n",
       "      <td>50.49</td>\n",
       "      <td>5.61</td>\n",
       "    </tr>\n",
       "    <tr>\n",
       "      <th>19</th>\n",
       "      <td>Netherlands</td>\n",
       "      <td>65.34</td>\n",
       "      <td>1</td>\n",
       "      <td>65.34</td>\n",
       "      <td>6.53</td>\n",
       "    </tr>\n",
       "    <tr>\n",
       "      <th>20</th>\n",
       "      <td>Norway</td>\n",
       "      <td>72.27</td>\n",
       "      <td>1</td>\n",
       "      <td>72.27</td>\n",
       "      <td>8.03</td>\n",
       "    </tr>\n",
       "    <tr>\n",
       "      <th>21</th>\n",
       "      <td>Poland</td>\n",
       "      <td>76.23</td>\n",
       "      <td>1</td>\n",
       "      <td>76.23</td>\n",
       "      <td>7.62</td>\n",
       "    </tr>\n",
       "    <tr>\n",
       "      <th>22</th>\n",
       "      <td>Spain</td>\n",
       "      <td>98.01</td>\n",
       "      <td>1</td>\n",
       "      <td>98.01</td>\n",
       "      <td>8.91</td>\n",
       "    </tr>\n",
       "    <tr>\n",
       "      <th>23</th>\n",
       "      <td>Sweden</td>\n",
       "      <td>75.24</td>\n",
       "      <td>1</td>\n",
       "      <td>75.24</td>\n",
       "      <td>7.52</td>\n",
       "    </tr>\n",
       "  </tbody>\n",
       "</table>\n",
       "</div>"
      ],
      "text/plain": [
       "           country  total_sales  total_customers  avg_sales_per_customer  \\\n",
       "0              USA      1040.49               13                   80.04   \n",
       "1           Canada       535.59                8                   66.95   \n",
       "2           Brazil       427.68                5                   85.54   \n",
       "3           France       389.07                5                   77.81   \n",
       "4          Germany       334.62                4                   83.66   \n",
       "5   United Kingdom       245.52                3                   81.84   \n",
       "6   Czech Republic       273.24                2                  136.62   \n",
       "7            India       183.15                2                   91.57   \n",
       "8         Portugal       185.13                2                   92.56   \n",
       "9        Argentina        39.60                1                   39.60   \n",
       "10       Australia        81.18                1                   81.18   \n",
       "11         Austria        69.30                1                   69.30   \n",
       "12         Belgium        60.39                1                   60.39   \n",
       "13           Chile        97.02                1                   97.02   \n",
       "14         Denmark        37.62                1                   37.62   \n",
       "15         Finland        79.20                1                   79.20   \n",
       "16         Hungary        78.21                1                   78.21   \n",
       "17         Ireland       114.84                1                  114.84   \n",
       "18           Italy        50.49                1                   50.49   \n",
       "19     Netherlands        65.34                1                   65.34   \n",
       "20          Norway        72.27                1                   72.27   \n",
       "21          Poland        76.23                1                   76.23   \n",
       "22           Spain        98.01                1                   98.01   \n",
       "23          Sweden        75.24                1                   75.24   \n",
       "\n",
       "    avg_order_value  \n",
       "0              7.94  \n",
       "1              7.05  \n",
       "2              7.01  \n",
       "3              7.78  \n",
       "4              8.16  \n",
       "5              8.77  \n",
       "6              9.11  \n",
       "7              8.72  \n",
       "8              6.38  \n",
       "9              7.92  \n",
       "10             8.12  \n",
       "11             7.70  \n",
       "12             8.63  \n",
       "13             7.46  \n",
       "14             3.76  \n",
       "15             7.20  \n",
       "16             7.82  \n",
       "17             8.83  \n",
       "18             5.61  \n",
       "19             6.53  \n",
       "20             8.03  \n",
       "21             7.62  \n",
       "22             8.91  \n",
       "23             7.52  "
      ]
     },
     "execution_count": 7,
     "metadata": {},
     "output_type": "execute_result"
    }
   ],
   "source": [
    "q3 = '''\n",
    "WITH\n",
    "    all_invoices AS\n",
    "        (\n",
    "        SELECT\n",
    "            c.customer_id,\n",
    "            i.total,\n",
    "            c.country\n",
    "        FROM invoice i\n",
    "        LEFT JOIN customer c ON c.customer_id = i.customer_id\n",
    "        ),\n",
    "        \n",
    "    avg_order_country AS\n",
    "        (\n",
    "        SELECT\n",
    "            AVG(total) avg_order_value,\n",
    "            country\n",
    "        FROM all_invoices\n",
    "        GROUP BY 2\n",
    "        ),\n",
    "        \n",
    "    customer_sales AS\n",
    "        (\n",
    "        SELECT\n",
    "            SUM(total) customer_total,\n",
    "            country\n",
    "        FROM all_invoices\n",
    "        GROUP BY customer_id\n",
    "        )\n",
    "        \n",
    "SELECT\n",
    "    cs.country,\n",
    "    SUM(cs.customer_total) total_sales,\n",
    "    COUNT(*) total_customers,\n",
    "    ROUND(SUM(cs.customer_total) / COUNT(*), 2) avg_sales_per_customer,\n",
    "    ROUND(ao.avg_order_value, 2) avg_order_value\n",
    "FROM customer_sales cs\n",
    "INNER JOIN avg_order_country ao ON ao.country = cs.country\n",
    "GROUP BY 1\n",
    "ORDER BY 3 DESC;\n",
    "'''\n",
    "\n",
    "run_query(q3)"
   ]
  },
  {
   "cell_type": "code",
   "execution_count": 17,
   "metadata": {
    "collapsed": true
   },
   "outputs": [],
   "source": [
    "country_sales = run_query(q3)\n",
    "country_sales.set_index('country', drop=True, inplace=True)"
   ]
  },
  {
   "cell_type": "code",
   "execution_count": 73,
   "metadata": {
    "collapsed": false
   },
   "outputs": [
    {
     "data": {
      "text/plain": [
       "<matplotlib.text.Text at 0x7fc7bea28400>"
      ]
     },
     "execution_count": 73,
     "metadata": {},
     "output_type": "execute_result"
    },
    {
     "data": {
      "image/png": "[encoded data removed]",
      "text/plain": [
       "<matplotlib.figure.Figure at 0x7fc7bec157f0>"
      ]
     },
     "metadata": {},
     "output_type": "display_data"
    }
   ],
   "source": [
    "import numpy as np\n",
    "big_countries = country_sales[:8]\n",
    "x = np.arange(len(big_countries))\n",
    "fig, ax = plt.subplots()\n",
    "plt.style.use('fivethirtyeight')\n",
    "plt.xticks(x+.25, big_countries.index.values, rotation=66)\n",
    "ax.bar(x, big_countries['total_sales'])\n",
    "plt.title('Total Sales for Countries with More than 1 Customer', y=1.08, )\n",
    "plt.ylabel('$')\n",
    "              "
   ]
  },
  {
   "cell_type": "code",
   "execution_count": 46,
   "metadata": {
    "collapsed": false
   },
   "outputs": [
    {
     "data": {
      "text/plain": [
       "<matplotlib.text.Text at 0x7fc7bef0b7b8>"
      ]
     },
     "execution_count": 46,
     "metadata": {},
     "output_type": "execute_result"
    },
    {
     "data": {
      "image/png": "[encoded data removed]",
      "text/plain": [
       "<matplotlib.figure.Figure at 0x7fc7bef4e860>"
      ]
     },
     "metadata": {},
     "output_type": "display_data"
    }
   ],
   "source": [
    "plt.bar(x, big_countries['total_customers'])\n",
    "plt.xticks(x + .25, big_countries.index.values, rotation=66)\n",
    "plt.title('Total Customers per Country')"
   ]
  },
  {
   "cell_type": "code",
   "execution_count": 71,
   "metadata": {
    "collapsed": false
   },
   "outputs": [
    {
     "data": {
      "text/plain": [
       "<matplotlib.text.Text at 0x7fc7beb150b8>"
      ]
     },
     "execution_count": 71,
     "metadata": {},
     "output_type": "execute_result"
    },
    {
     "data": {
      "image/png": "[encoded data removed]",
      "text/plain": [
       "<matplotlib.figure.Figure at 0x7fc7beb61240>"
      ]
     },
     "metadata": {},
     "output_type": "display_data"
    }
   ],
   "source": [
    "big_countries_avg_sales = big_countries.sort_values('avg_sales_per_customer', ascending=False)\n",
    "fig = plt.subplot()\n",
    "plt.xticks(x+.25, big_countries_avg_sales.index.values, rotation=66)\n",
    "plt.bar(x, big_countries_avg_sales['avg_sales_per_customer'])\n",
    "plt.ylabel('$')"
   ]
  },
  {
   "cell_type": "code",
   "execution_count": 70,
   "metadata": {
    "collapsed": false
   },
   "outputs": [
    {
     "data": {
      "text/plain": [
       "<matplotlib.text.Text at 0x7fc7beba4898>"
      ]
     },
     "execution_count": 70,
     "metadata": {},
     "output_type": "execute_result"
    },
    {
     "data": {
      "image/png": "[encoded data removed]",
      "text/plain": [
       "<matplotlib.figure.Figure at 0x7fc7bec79d30>"
      ]
     },
     "metadata": {},
     "output_type": "display_data"
    }
   ],
   "source": [
    "big_countries_avg_order = big_countries.sort_values('avg_order_value', ascending=False)\n",
    "fig = plt.subplots()\n",
    "plt.xticks(x+.25, big_countries_avg_order.index.values, rotation=66)\n",
    "plt.bar(x, big_countries_avg_order['avg_order_value'])\n",
    "plt.title('Average Order Value')\n",
    "plt.ylabel('$')"
   ]
  },
  {
   "cell_type": "markdown",
   "metadata": {},
   "source": [
    "Analysis of sales by country reveals a few interesting trends and opportunities for growth\n",
    "-  The greatest number of sales come from the Americas and Western Europe\n",
    "-  Eastern Europe and Asia (India) have the fewest customers and total sales\n",
    "-  Eastern Europe and Asia have the highest revenue per customer\n",
    "-  Eastern Europe and Asia have the highest average sales per order"
   ]
  },
  {
   "cell_type": "markdown",
   "metadata": {},
   "source": [
    "Based on these findings, we recommend marketing efforts be directed to Eastern Europe and Asia--specifically the Czech Republic and India--where order values are relatively high and revenue per customer is highest. These markets have the lowest total number of customers, but customers generate the most revenue of any market, so growth in those areas proves attractive. "
   ]
  },
  {
   "cell_type": "code",
   "execution_count": 97,
   "metadata": {
    "collapsed": false
   },
   "outputs": [
    {
     "data": {
      "text/html": [
       "<div>\n",
       "<style scoped>\n",
       "    .dataframe tbody tr th:only-of-type {\n",
       "        vertical-align: middle;\n",
       "    }\n",
       "\n",
       "    .dataframe tbody tr th {\n",
       "        vertical-align: top;\n",
       "    }\n",
       "\n",
       "    .dataframe thead th {\n",
       "        text-align: right;\n",
       "    }\n",
       "</style>\n",
       "<table border=\"1\" class=\"dataframe\">\n",
       "  <thead>\n",
       "    <tr style=\"text-align: right;\">\n",
       "      <th></th>\n",
       "      <th>album_purchased</th>\n",
       "      <th>number_of_invoices</th>\n",
       "      <th>percent</th>\n",
       "    </tr>\n",
       "  </thead>\n",
       "  <tbody>\n",
       "    <tr>\n",
       "      <th>0</th>\n",
       "      <td>No</td>\n",
       "      <td>500</td>\n",
       "      <td>0.814332</td>\n",
       "    </tr>\n",
       "    <tr>\n",
       "      <th>1</th>\n",
       "      <td>Yes</td>\n",
       "      <td>114</td>\n",
       "      <td>0.185668</td>\n",
       "    </tr>\n",
       "  </tbody>\n",
       "</table>\n",
       "</div>"
      ],
      "text/plain": [
       "  album_purchased  number_of_invoices   percent\n",
       "0              No                 500  0.814332\n",
       "1             Yes                 114  0.185668"
      ]
     },
     "execution_count": 97,
     "metadata": {},
     "output_type": "execute_result"
    }
   ],
   "source": [
    "q4 = '''\n",
    "WITH\n",
    "    invoice_first_track AS\n",
    "        (\n",
    "        SELECT\n",
    "            invoice_id invoice_id,\n",
    "            MIN(track_id) first_track_id\n",
    "        FROM invoice_line\n",
    "        GROUP BY 1\n",
    "        )\n",
    "SELECT\n",
    "    album_purchased,\n",
    "    COUNT(invoice_id) number_of_invoices,\n",
    "    CAST(COUNT(invoice_id) AS FLOAT) / (\n",
    "                                        SELECT COUNT(*) FROM invoice\n",
    "                                        ) percent\n",
    "FROM\n",
    "    (\n",
    "    SELECT\n",
    "        ift.*,\n",
    "        CASE\n",
    "            WHEN\n",
    "                (\n",
    "                SELECT t.track_id FROM track t\n",
    "                WHERE t.album_id = (\n",
    "                                    SELECT t2.album_id from track t2\n",
    "                                    WHERE t2.track_id = ift.first_track_id\n",
    "                                    )\n",
    "                                \n",
    "                EXCEPT\n",
    "            \n",
    "                SELECT il2.track_id FROM invoice_line il2\n",
    "                WHERE il2.invoice_id = ift.invoice_id\n",
    "                ) IS NULL\n",
    "            \n",
    "            AND\n",
    "        \n",
    "                (\n",
    "                SELECT il2.track_id FROM invoice_line il2\n",
    "                WHERE il2.invoice_id = ift.invoice_id\n",
    "            \n",
    "                EXCEPT\n",
    "            \n",
    "                SELECT t.track_id FROM track t\n",
    "                WHERE t.album_id = (\n",
    "                                    SELECT t2.album_id from track t2\n",
    "                                    WHERE t2.track_id = ift.first_track_id\n",
    "                                    )\n",
    "                ) IS NULL\n",
    "            THEN 'Yes'\n",
    "            ELSE 'No'\n",
    "            END AS 'album_purchased'\n",
    "    FROM invoice_first_track ift\n",
    "    )\n",
    "GROUP BY album_purchased;\n",
    "'''\n",
    "run_query(q4)"
   ]
  },
  {
   "cell_type": "markdown",
   "metadata": {},
   "source": [
    "Currently 18.6% of sales are complete album purcheses. We would not recommend purchasing single songs from albums to sell on the platform as nearly one-fifth of orders may be affected."
   ]
  },
  {
   "cell_type": "code",
   "execution_count": null,
   "metadata": {
    "collapsed": true
   },
   "outputs": [],
   "source": []
  }
 ],
 "metadata": {
  "kernelspec": {
   "display_name": "Python 3",
   "language": "python",
   "name": "python3"
  },
  "language_info": {
   "codemirror_mode": {
    "name": "ipython",
    "version": 3
   },
   "file_extension": ".py",
   "mimetype": "text/x-python",
   "name": "python",
   "nbconvert_exporter": "python",
   "pygments_lexer": "ipython3",
   "version": "3.4.3"
  }
 },
 "nbformat": 4,
 "nbformat_minor": 2
}
